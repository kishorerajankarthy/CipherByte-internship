{
  "nbformat": 4,
  "nbformat_minor": 0,
  "metadata": {
    "colab": {
      "provenance": [],
      "authorship_tag": "ABX9TyOeaGPnMZByBxY9uL2fvgW0",
      "include_colab_link": true
    },
    "kernelspec": {
      "name": "python3",
      "display_name": "Python 3"
    },
    "language_info": {
      "name": "python"
    }
  },
  "cells": [
    {
      "cell_type": "markdown",
      "metadata": {
        "id": "view-in-github",
        "colab_type": "text"
      },
      "source": [
        "<a href=\"https://colab.research.google.com/github/kishorerajankarthy/CipherByte-internship/blob/main/chatbot_codsoft.ipynb\" target=\"_parent\"><img src=\"https://colab.research.google.com/assets/colab-badge.svg\" alt=\"Open In Colab\"/></a>"
      ]
    },
    {
      "cell_type": "code",
      "execution_count": 2,
      "metadata": {
        "colab": {
          "base_uri": "https://localhost:8080/"
        },
        "id": "WoG254bZqiWg",
        "outputId": "51150936-335c-4877-d0d5-53b1a8b3ac0b"
      },
      "outputs": [
        {
          "output_type": "stream",
          "name": "stdout",
          "text": [
            "Hello! I'm your chatbot. Type 'bye' to exit.\n",
            "You: hello\n",
            "Chatbot: Hi there! How can I help you today?\n",
            "You: what is your name\n",
            "Chatbot: I am your friendly chatbot.\n",
            "You: weather\n",
            "Chatbot: I'm not sure about the weather, but you can check a weather website for updates.\n",
            "You: bye\n",
            "Chatbot: Goodbye! Have a great day!\n"
          ]
        }
      ],
      "source": [
        "import re\n",
        "\n",
        "# Dictionary of commands and responses\n",
        "commands = {\n",
        "    \"hello\": \"Hi there! How can I help you today?\",\n",
        "    \"bye\": \"Goodbye! Have a great day!\",\n",
        "    \"what is your name\": \"I am your friendly chatbot.\",\n",
        "    \"how are you\": \"I'm just a program, but I'm doing great!\",\n",
        "    # Add more commands here up to 1000\n",
        "}\n",
        "\n",
        "# Function to handle user input\n",
        "def get_response(user_input):\n",
        "    # Normalize input\n",
        "    user_input = user_input.lower().strip()\n",
        "\n",
        "    # Exact match responses\n",
        "    if user_input in commands:\n",
        "        return commands[user_input]\n",
        "\n",
        "    # Pattern matching responses (if needed)\n",
        "    # Example: responses to questions about the weather\n",
        "    weather_pattern = re.compile(r'\\bweather\\b', re.IGNORECASE)\n",
        "    if weather_pattern.search(user_input):\n",
        "        return \"I'm not sure about the weather, but you can check a weather website for updates.\"\n",
        "\n",
        "    return \"Sorry, I don't understand that command.\"\n",
        "\n",
        "# Main function to run the chatbot\n",
        "def chatbot():\n",
        "    print(\"Hello! I'm your chatbot. Type 'bye' to exit.\")\n",
        "    while True:\n",
        "        user_input = input(\"You: \")\n",
        "        if user_input.lower().strip() == \"bye\":\n",
        "            print(\"Chatbot: Goodbye! Have a great day!\")\n",
        "            break\n",
        "        response = get_response(user_input)\n",
        "        print(f\"Chatbot: {response}\")\n",
        "\n",
        "if __name__ == \"__main__\":\n",
        "    chatbot()\n"
      ]
    }
  ]
}